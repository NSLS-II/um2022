{
 "cells": [
  {
   "cell_type": "markdown",
   "id": "27293b69-f480-4dc0-8b72-a7ed7c47e4e4",
   "metadata": {},
   "source": [
    "<img src='../source_figures/bnl_logo_horizontal_rgb.png' width=\"400\" height=\"400\">\n",
    "\n",
    "# steady as beamlines go\n",
    "\n",
    "### Anomaly Detection with ML and Scalar Time Series\n",
    "\n",
    "### Andi Barbour, Soft X-ray Scattering and Spectroscopy, CSX, NSLS-II\n",
    "\n",
    "### NSLS-II and CFN Users' Meeting 2022\n",
    "Workshop 6\n",
    "\n",
    "Notebook #1"
   ]
  },
  {
   "cell_type": "markdown",
   "id": "72e30d0e-e4ff-4df2-94fd-bf9d68398809",
   "metadata": {},
   "source": [
    "<img src='figures/3pp.png' width=\"1000\" height=\"1000\">\n",
    "\n",
    "*Figures found here are from the DOI above.*\n",
    "\n",
    "\n",
    "# Find it on github\n",
    "[data, models, training notebooks, and example implementation](https://github.com/bnl/pub-ML_examples)"
   ]
  },
  {
   "cell_type": "markdown",
   "id": "50ea503f-2938-49b4-b23c-9fd3dcd4a3ca",
   "metadata": {
    "tags": []
   },
   "source": [
    "### 3 Anomaly Detection Models\n",
    "\n",
    "**Based on 3 unsupervised algorithms from sklearn**\n",
    "- Local Outlier Detection (LOD)\n",
    "- Elliptical Envelope (EE)\n",
    "- Isolation Forest (IFT)\n",
    "    \n",
    "\n",
    "\n",
    "<img src='figures/3types_anomaly.png' width=\"2000\" height=\"2000\">\n",
    "\n",
    "   \n",
    "**Scalar data from process Area Detector Images**\n",
    "- 6 scalar signals for each \"measurement\"\n",
    "-  feature engineering (93)\n",
    "- no labels used during training (`model.fit()`)\n",
    "- labels are to evaluate model performance\n",
    "-  **semi-supervised** models\n",
    "     \n",
    "     "
   ]
  },
  {
   "cell_type": "markdown",
   "id": "6df1aee0-fe9f-4b9c-9c30-171b2ccc5de5",
   "metadata": {},
   "source": [
    "### Basic concept\n",
    "- Normal data is easy to find\n",
    "- Large data set should help with performance\n",
    "    - Number of frames, 20 - 14,000\n",
    "    - Many measurements in 1 \"time scan\" \n",
    "- Data collected at CSX beamline"
   ]
  },
  {
   "cell_type": "code",
   "execution_count": null,
   "id": "d466f467-ad00-4981-902a-edf16c452640",
   "metadata": {},
   "outputs": [],
   "source": [
    "from matplotlib import pyplot as plt\n",
    "import pandas as pd\n",
    "import numpy as np\n",
    "\n",
    "import pickle"
   ]
  },
  {
   "cell_type": "code",
   "execution_count": null,
   "id": "117323fa-33e5-4210-abad-fea11ea5d9d1",
   "metadata": {},
   "outputs": [],
   "source": []
  },
  {
   "cell_type": "markdown",
   "id": "4f3ad840-10fa-4700-b1db-beef5c267fdb",
   "metadata": {},
   "source": [
    "### Load all 3 models from disk\n",
    "* not training\n",
    "* let's just use as executables\n",
    "* if you don't our pickle files on your personal computer, you can train from scatch"
   ]
  },
  {
   "cell_type": "code",
   "execution_count": null,
   "id": "d36bdadc-23c4-4903-ac32-407c5711bd41",
   "metadata": {
    "tags": []
   },
   "outputs": [],
   "source": [
    "def make_the_model_go(model, input_data):\n",
    "    prediction = \"anomaly\" if model.predict(input_data) == -1 else \"normal\"\n",
    "    print(f\"The model characterize the data as {prediction}\")\n",
    "\n",
    "models = {}\n",
    "model_types = ['EE', 'IFT', 'LOD']\n",
    "for mod_type in model_types:\n",
    "    with open(f'models/anomaly_detection_{mod_type}_model.pk', 'rb') as f:\n",
    "        temp = pickle.load(f)\n",
    "        models.update({mod_type : temp})"
   ]
  },
  {
   "cell_type": "markdown",
   "id": "990a2216-691e-4508-bb93-58c73c989c3c",
   "metadata": {},
   "source": [
    "### Retrieve all collected data \n",
    "* Available as `.csv` and `.h5` *(only `.csv` here)*\n"
   ]
  },
  {
   "cell_type": "code",
   "execution_count": null,
   "id": "e74e2610-c1ac-4341-9731-23a5ee33548e",
   "metadata": {},
   "outputs": [],
   "source": [
    "df = pd.read_csv(\"anomaly/CSX_data.csv\",index_col=0)\n",
    "df.head()\n"
   ]
  },
  {
   "cell_type": "markdown",
   "id": "79465898-2712-48a6-8a3b-75397cfafb82",
   "metadata": {},
   "source": [
    "### Prepare data for model input\n",
    "- just looking at 1 measurement first"
   ]
  },
  {
   "cell_type": "code",
   "execution_count": null,
   "id": "c2b4e167-f375-43f3-8b26-a61d0ee16a3c",
   "metadata": {},
   "outputs": [],
   "source": [
    "csx_labeled_data = df.drop(columns=[\"target\", \"roi\"])#.to_numpy() \n",
    "print(csx_labeled_data.shape)\n",
    "measurements, features = csx_labeled_data.shape\n",
    "print(f'\\n{measurements} individual measurements to test')\n",
    "print(f'\\n{features} engineered features per measurement')\n",
    " "
   ]
  },
  {
   "cell_type": "code",
   "execution_count": null,
   "id": "4787efd1-7ade-4017-94b2-b045ca7117f4",
   "metadata": {
    "tags": []
   },
   "outputs": [],
   "source": [
    "data = csx_labeled_data[0:1]\n",
    "for method, model in models.items():\n",
    "    print(f'{method}:\\t', end=\"\")\n",
    "    make_the_model_go(model, data)"
   ]
  },
  {
   "cell_type": "markdown",
   "id": "f50223e8-18cd-4521-a94f-1802dfcd679d",
   "metadata": {},
   "source": [
    "### Make target (labels) numerical\n",
    "- `\"normal\" = 1`\n",
    "- `\"anomaly\" = -1`"
   ]
  },
  {
   "cell_type": "code",
   "execution_count": null,
   "id": "6f6cf800-d263-4ef2-ae05-3aaf31179a72",
   "metadata": {},
   "outputs": [],
   "source": [
    "df.loc[df['target'] == 'normal', 'target'] = 1\n",
    "df.loc[df['target'] == 'anomaly', 'target'] = -1"
   ]
  },
  {
   "cell_type": "code",
   "execution_count": null,
   "id": "b1a22419-b07f-4d7a-9ace-392ed524de2e",
   "metadata": {},
   "outputs": [],
   "source": [
    "df.head()"
   ]
  },
  {
   "cell_type": "markdown",
   "id": "defac00a-f89c-4649-bcd7-37c76c8704c0",
   "metadata": {},
   "source": [
    "### Pass all data through all models"
   ]
  },
  {
   "cell_type": "code",
   "execution_count": null,
   "id": "ed58c69d-1734-41f7-946d-d127d4264e43",
   "metadata": {
    "tags": []
   },
   "outputs": [],
   "source": [
    "prediction_results = {'EEpr':[], 'IFTpr':[],'LODpr':[],}\n",
    "\n",
    "\n",
    "for i in range(csx_labeled_data.shape[0]):\n",
    "    data =  csx_labeled_data[i:i+1]\n",
    "    for method, model in models.items():\n",
    "        #print(f'{method}:\\t', end=\"\")\n",
    "        prediction = model.predict(data)\n",
    "        prediction_results[method+'pr'].append(prediction[0])"
   ]
  },
  {
   "cell_type": "markdown",
   "id": "9c2f5633-5486-42d9-b987-d0f69266316c",
   "metadata": {},
   "source": [
    "### Copy target to results dataframe (`df_res`) for convenience"
   ]
  },
  {
   "cell_type": "code",
   "execution_count": null,
   "id": "fb8eccaa-f63a-4fdb-a34c-b0d5bb8a73a8",
   "metadata": {},
   "outputs": [],
   "source": [
    "df_res = pd.DataFrame(prediction_results)\n",
    "df_res['target'] = df['target']"
   ]
  },
  {
   "cell_type": "code",
   "execution_count": null,
   "id": "535d0b69-cf61-4ab1-adc9-85198c29eed8",
   "metadata": {},
   "outputs": [],
   "source": [
    "df_res.head()"
   ]
  },
  {
   "cell_type": "markdown",
   "id": "859a3e36-5206-492c-8bfb-00e2d83f7913",
   "metadata": {},
   "source": [
    "### Performance versus Target \n",
    "* just make sure nothing is wrong here"
   ]
  },
  {
   "cell_type": "code",
   "execution_count": null,
   "id": "46e78dfe-1b0b-423e-8e60-a293eecbba61",
   "metadata": {},
   "outputs": [],
   "source": [
    "fig = plt.figure(figsize=(5,5))\n",
    "plt.title(f'Reproducing Results from CSX_data.csv\\nWith Models from Disk')\n",
    "for method, color in zip(models.keys(), ['blueviolet', 'lime', 'deepskyblue']):\n",
    "    plt.hist(df_res[method+'pr'],bins=2,histtype='step', label = method+'pr',lw=5, color = color)\n",
    "    \n",
    "plt.hist(df_res['target'],bins=2,histtype='step', label = 'target', color='deeppink', lw=3)\n",
    "plt.ylabel(\"Measurements\")\n",
    "plt.xlabel(\"Predictions\")\n",
    "plt.legend(loc=6)\n",
    "fig.savefig(\"Histogram_of_Predictions_for_CSX-FCCD_labeled_data.png\")"
   ]
  },
  {
   "cell_type": "markdown",
   "id": "01a02b9f-d5ef-49f1-9676-5fc30beddc00",
   "metadata": {},
   "source": [
    "### Tally Overall Average Performance\n",
    "* Overall is a more course loook\n",
    "* For fine hyperparamter tuning for desired performance\n",
    "    * Recall anomaly\n",
    "    * False anomaly discoery rate\n"
   ]
  },
  {
   "cell_type": "code",
   "execution_count": null,
   "id": "213c76e7-2613-4693-922d-79250cc92fc9",
   "metadata": {
    "tags": []
   },
   "outputs": [],
   "source": [
    "df_res_total = df_res\n",
    "for method in models.keys():\n",
    "    conditions = [\n",
    "        (df_res_total[method+'pr'] == df_res_total['target']),\n",
    "        (df_res_total[method+'pr'] != df_res_total['target'])\n",
    "    ]\n",
    "\n",
    "    label_match = [True, False]\n",
    "    df_res_total[method+'pr'] = np.select(conditions, label_match )\n",
    "    \n",
    "for method in models.keys():\n",
    "    print(f'{method}:\\t {df_res_total[method+\"pr\"].value_counts()[1] / measurements *100:.2f}% overall')"
   ]
  },
  {
   "cell_type": "markdown",
   "id": "619fe5e0-c321-46d1-a328-413fcbab71e3",
   "metadata": {},
   "source": [
    "### Published Results    \n",
    "<img src='figures/3pp_anomaly_results_paper.png' width=\"500\" height=\"500\">"
   ]
  },
  {
   "cell_type": "code",
   "execution_count": null,
   "id": "b388b0ae-5483-484d-b7ae-415ae1992d50",
   "metadata": {},
   "outputs": [],
   "source": []
  },
  {
   "cell_type": "markdown",
   "id": "d58ef741-46ac-456b-9819-3865791f6e97",
   "metadata": {},
   "source": [
    "### Acknowledgements\n",
    "\n",
    "These data used to train the **EE**, **IFT**, and **LOD** models were collected at the **CSX beamline of the National Synchrotron Light Source II**, a U.S. Department of Energy (DOE) Office of Science User Facility operated for the DOE Office of Science by Brookhaven National Laboratory (BNL) under **Contract No. DE-SC0012704**.\n",
    "\n",
    "The paper and approach were developed in colllaboartion with |resources of a BNL Laboratory Directed Research and Development (LDRD) projects:\n",
    "- **20-032 ”Accelerating materials discovery with total scattering via machine learning”**\n",
    "- **20-038 ”Machine Learning for Real-Time Data Fidelity, Healing, and Analysis for Coherent X-ray Synchrotron Data”**. "
   ]
  },
  {
   "cell_type": "code",
   "execution_count": null,
   "id": "f8ade5f2-f180-41e0-b3b7-691d3112acb9",
   "metadata": {},
   "outputs": [],
   "source": []
  },
  {
   "cell_type": "code",
   "execution_count": null,
   "id": "b796df08-2c91-4346-b577-5b2e6b2f9d82",
   "metadata": {},
   "outputs": [],
   "source": []
  },
  {
   "cell_type": "code",
   "execution_count": null,
   "id": "ab0a6722-dd26-4df8-9fce-303bc70eb98d",
   "metadata": {},
   "outputs": [],
   "source": []
  },
  {
   "cell_type": "code",
   "execution_count": null,
   "id": "2cd9e195-73e5-47de-b072-8c051bc86b2c",
   "metadata": {},
   "outputs": [],
   "source": []
  },
  {
   "cell_type": "code",
   "execution_count": null,
   "id": "6185c0c9-423d-47a0-b4ac-866f7c857492",
   "metadata": {},
   "outputs": [],
   "source": []
  }
 ],
 "metadata": {
  "kernelspec": {
   "display_name": "Python 3",
   "language": "python",
   "name": "python3"
  },
  "language_info": {
   "codemirror_mode": {
    "name": "ipython",
    "version": 3
   },
   "file_extension": ".py",
   "mimetype": "text/x-python",
   "name": "python",
   "nbconvert_exporter": "python",
   "pygments_lexer": "ipython3",
   "version": "3.9.12"
  }
 },
 "nbformat": 4,
 "nbformat_minor": 5
}

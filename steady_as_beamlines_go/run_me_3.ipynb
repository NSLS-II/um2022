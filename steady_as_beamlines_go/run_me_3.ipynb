{
 "cells": [
  {
   "cell_type": "markdown",
   "id": "b18a8b1d-5a3a-4c02-9f5e-0d7ac56a0953",
   "metadata": {},
   "source": [
    "<img src='../source_figures/bnl_logo_horizontal_rgb.png' width=\"400\" height=\"400\">\n",
    "\n",
    "# steady as beamlines go\n",
    "\n",
    "### Anomaly Detection with ML and Scalar Time Series\n",
    "\n",
    "### Andi Barbour, Soft X-ray Scattering and Spectroscopy, CSX, NSLS-II\n",
    "\n",
    "### NSLS-II and CFN Users' Meeting 2022\n",
    "Workshop 6\n",
    "\n",
    "Notebook #2"
   ]
  },
  {
   "cell_type": "code",
   "execution_count": null,
   "id": "71449659-877f-42a8-8e95-23a7bb03e67d",
   "metadata": {},
   "outputs": [],
   "source": [
    "from matplotlib import cm, patches, pyplot as plt\n",
    "import numpy as np\n",
    "import pandas as pd\n",
    "import xarray as xr\n",
    "\n",
    "from itertools import cycle\n",
    "\n",
    "import collect_ts as ts\n",
    "from anomaly.extract_features import get_features_single_datum"
   ]
  },
  {
   "cell_type": "code",
   "execution_count": null,
   "id": "384cf0ad-e1c8-4c39-be37-7218514d528d",
   "metadata": {},
   "outputs": [],
   "source": [
    "import pickle\n",
    "import os.path\n"
   ]
  },
  {
   "cell_type": "code",
   "execution_count": null,
   "id": "412ddec6-49e2-4acc-bec6-c058d168ea44",
   "metadata": {},
   "outputs": [],
   "source": [
    "def make_the_model_go(model, input_data):\n",
    "    prediction = \"anomaly\" if model.predict(input_data) == -1 else \"normal\"\n",
    "    print(f\"The model characterize the data as {prediction}\")\n",
    "\n",
    "def summarize_runs(runs, name_order):\n",
    "    for run in runs:\n",
    "        df = run[\"baseline\"][\"data\"].read(name_order).to_dataframe()\n",
    "        print(run.start[\"scan_id\"], run.start[\"detectors\"], run.start.get(\"purpose\",\"no induced ?\"), run.start.get('artifact', \"no induced ?\"))# \"--\"*10)\n",
    "        print(\"--\"*50)\n",
    "        if df is not None:\n",
    "            display(df[name_order].mean()) # FOR USER TO TRY - what happens when you remove .mean()\n",
    "\n",
    "        print(f'{run.stop[\"exit_status\"]:>60} {run.metadata[\"summary\"][\"duration\"]/60:.2f} minutes')# \"--\"*10)\n",
    "        print(\"\\n\")\n",
    "        \n",
    "from ipywidgets import interact \n",
    "\n",
    "def browse_3Darray(res,title='Frame'):\n",
    "    \"\"\" Widget for notebooks.  Sliding bar to browse 3D python array.\n",
    "    res         :  3D array with the first element being interated\n",
    "    dark_gain   :  string to be the title of the plot\n",
    "                   match dark gain settings as described in the start document ('auto', 'x2', 'x1')\n",
    "    \"\"\"   \n",
    "    N = len(res)\n",
    "    def view_image(i=0):\n",
    "        im.set_data(res[i])\n",
    "        ax.set_title(f'{title} {i}')\n",
    "        fig.canvas.draw_idle()\n",
    "    interact(view_image, i=(0, N-1))\n",
    "    \n",
    "#%matplotlib widget"
   ]
  },
  {
   "cell_type": "code",
   "execution_count": null,
   "id": "d4d91f37-5028-41a9-95af-a56a2e121b23",
   "metadata": {
    "tags": []
   },
   "outputs": [],
   "source": [
    "from databroker.queries import TimeRange, RawMongo\n",
    "from tiled.client import from_uri\n",
    "c = from_uri(\"https://tiled-demo.blueskyproject.io/api\")\n",
    "csx = c[\"csx\"][\"raw\"]"
   ]
  },
  {
   "cell_type": "markdown",
   "id": "37a5155d-9ca0-48f1-8c81-aa7546f380e8",
   "metadata": {
    "tags": []
   },
   "source": [
    "# Anoamaly Detection\n",
    "### With 3 models: *EE*, *IFT*, *LOD* \n",
    "* Data is characterized by models as `\"normal\"` or `\"anomaly\"`\n",
    "* All data is from CSX using the FastCCD with various x-ray scattering geometries\n",
    "\n",
    "[see all training and testing code + data](https://github.com/bnl/pub-ML_examples)\n",
    "\n",
    "# Load the Model\n",
    "### Objective\n",
    "* Use models on data in a serial fasshion (streaming documents)\n",
    "* See how generalizable the models are\n",
    "* Get a feel for data collection process prior to training "
   ]
  },
  {
   "cell_type": "code",
   "execution_count": null,
   "id": "5e9f5633-61ae-45b3-9682-11d5f3bcf1b7",
   "metadata": {},
   "outputs": [],
   "source": []
  },
  {
   "cell_type": "code",
   "execution_count": null,
   "id": "01bdd068-5b21-4586-9a64-0658907f6d9b",
   "metadata": {
    "tags": []
   },
   "outputs": [],
   "source": [
    "models = {}\n",
    "model_types = ['EE', 'IFT', 'LOD']\n",
    "for mod_type in model_types:\n",
    "    with open(f'models/anomaly_detection_{mod_type}_model.pk', 'rb') as f:\n",
    "        temp = pickle.load(f)\n",
    "        models.update({mod_type : temp})"
   ]
  },
  {
   "cell_type": "code",
   "execution_count": null,
   "id": "f184987c-403a-4f78-909e-c41aec0309a8",
   "metadata": {},
   "outputs": [],
   "source": [
    "scans = [x for x in range(154685, 154696+1)]"
   ]
  },
  {
   "cell_type": "code",
   "execution_count": null,
   "id": "0e1c49f0-ea56-4092-987b-697f225da32b",
   "metadata": {},
   "outputs": [],
   "source": [
    "runs = csx.search(RawMongo(start={\"purpose\": \"laser stability\",}))\n",
    "runs"
   ]
  },
  {
   "cell_type": "code",
   "execution_count": null,
   "id": "9ffcaa6d-c667-4766-8f32-800c89108b07",
   "metadata": {},
   "outputs": [],
   "source": [
    "for i, run in enumerate(runs.values()):\n",
    "    print(i, run.start[\"scan_id\"], run.start[\"detectors\"], run.start[\"purpose\"], run.start.get('artifact', \"no induced ?\"))\n"
   ]
  },
  {
   "cell_type": "markdown",
   "id": "dddfca9a-09ae-47b3-9e1a-145abf240ad3",
   "metadata": {
    "tags": []
   },
   "source": [
    "## It's hard to perfect record intent as you are experimenting - data isn't perfect\n",
    "- In this case, we have only the choice to keep a record and apply it to processed data \n",
    "- However, bluesky `baseline` recordings make it clear when the beamline was not in a standard configuration\n"
   ]
  },
  {
   "cell_type": "code",
   "execution_count": null,
   "id": "e83142b0-e408-4b55-bac1-6939ab2f35d5",
   "metadata": {
    "tags": []
   },
   "outputs": [],
   "source": [
    "summarize_runs(csx[scans], name_order=[\"slt3_x_user_setpoint\"])"
   ]
  },
  {
   "cell_type": "markdown",
   "id": "54d57d6e-0462-42d1-a32f-706d6f3d8115",
   "metadata": {},
   "source": [
    "```python\n",
    "0 154685 ['dif_beam_hdf5'] laser stability no induced \n",
    "1 154686 ['dif_beam_hdf5'] laser stability slt3 moved ********\n",
    "2 154687 ['dif_beam_hdf5'] laser stability slt3 move  ********\n",
    "3 154688 ['dif_beam_hdf5'] laser stability LEDs on/off\n",
    "4 154689 ['dif_beam_hdf5'] laser stability pinhole move out\n",
    "5 154690 ['dif_beam_hdf5'] laser stability 0.5 intensity steady (NO INDUCED, but low) ********\n",
    "6 154691 ['dif_beam_hdf5'] laser stability random up and down intensity\n",
    "7 154692 ['dif_beam_hdf5'] laser stability >0.5 intensity steady  (NO INDUCED, but low)  ********\n",
    "8 154693 ['dif_beam_hdf5'] laser stability random up and down intensity\n",
    "9 154694 ['dif_beam_hdf5'] laser stability sudden off\n",
    "10 154695 ['dif_beam_hdf5'] laser stability sudden on\n",
    "11 154696 ['dif_beam_hdf5'] laser stability sudden on\n",
    "```"
   ]
  },
  {
   "cell_type": "markdown",
   "id": "26ddf983-a94e-43c6-8778-cc254860f10c",
   "metadata": {},
   "source": [
    "## Let's try the first scan"
   ]
  },
  {
   "cell_type": "code",
   "execution_count": null,
   "id": "7c4af534-65a3-4f15-bdfb-6838d6258ddb",
   "metadata": {},
   "outputs": [],
   "source": [
    "scan = scans[0]"
   ]
  },
  {
   "cell_type": "code",
   "execution_count": null,
   "id": "c1d49e9a-697b-463c-8fd1-7919b376f854",
   "metadata": {},
   "outputs": [],
   "source": [
    "class_label = None"
   ]
  },
  {
   "cell_type": "code",
   "execution_count": null,
   "id": "1aac8365-c87f-47cb-b529-87a44d34266b",
   "metadata": {},
   "outputs": [],
   "source": [
    "run = csx[scan]['primary']['data']['dif_beam_hdf5_image'][:, :, 400:1200, :1200].compute()"
   ]
  },
  {
   "cell_type": "code",
   "execution_count": null,
   "id": "431ca971-6904-480e-a45e-1346ebac015f",
   "metadata": {},
   "outputs": [],
   "source": [
    "imgs = run.to_numpy()\n",
    "_, fs, vpix, hpix = imgs.shape\n",
    "imgs = imgs.reshape(fs, vpix, hpix)"
   ]
  },
  {
   "cell_type": "code",
   "execution_count": null,
   "id": "7607015a-6bc8-4622-95d9-04c33571ed7e",
   "metadata": {},
   "outputs": [],
   "source": [
    "#                Vst  Hst  Vsz  Hsz\n",
    "rois = {'blob': (300, 600, 300, 300),\n",
    "        'blob_50': (420, 700,  50,  50),\n",
    "        'dif-ref': (400, 500, 100, 100),\n",
    "        'dif-ref_50': (400, 500,  50,  50),\n",
    "        'corner': (175, 300, 125,  50),\n",
    "        'zero': (100, 1000, 50,  50),\n",
    "       }\n",
    "colors  = cycle(cm.get_cmap('rainbow')(np.linspace(0, 1, len(rois))))"
   ]
  },
  {
   "cell_type": "code",
   "execution_count": null,
   "id": "27cdd662-7595-4222-a8fa-983a91969d19",
   "metadata": {},
   "outputs": [],
   "source": [
    "#%matplotlib inline"
   ]
  },
  {
   "cell_type": "code",
   "execution_count": null,
   "id": "0ff31cd1-43d3-432e-bc0a-6ed307b6aa5b",
   "metadata": {},
   "outputs": [],
   "source": [
    "fig, ax = plt.subplots(figsize=(10,15))\n",
    "im = ax.imshow(imgs[0],vmax=500, vmin=50)\n",
    "cbar = plt.colorbar(im, ax=ax,fraction=.03)\n",
    "for roi in rois:\n",
    "    Vpix, Hpix,  Vsize, Hsize = rois[roi]\n",
    "    rect = patches.Rectangle((Hpix, Vpix), Hsize, Vsize, linewidth=3, edgecolor =next(colors), facecolor='none')     \n",
    "    ax.add_patch(rect)\n",
    "fig.savefig('ROIs for Laser Stability Test')\n",
    "plt.title(\"Low Power Laser on a YAG Screen Typically Used for Sample Positioning\")"
   ]
  },
  {
   "cell_type": "code",
   "execution_count": null,
   "id": "fc932f95-39bb-4698-bae7-b3f2148de15e",
   "metadata": {},
   "outputs": [],
   "source": [
    "#browse_3Darray(imgs)"
   ]
  },
  {
   "cell_type": "markdown",
   "id": "30638eaf-3818-4cf9-9d93-470e071fa9ae",
   "metadata": {
    "tags": []
   },
   "source": [
    "## Images Emulate X-ray Scattering Measurement\n",
    "- SAXS diffuse scattering\n",
    "- Bragg peaks \n",
    "- Coherent scattering\n",
    "- Surface diffraction\n",
    "\n",
    "## In many cases, one requires \"steady\" signal over many frames to be averaged together or correlated\n",
    "- Beam instability (measurement and feedback systems)\n",
    "- Coherent scattering highly is affected (not just intenisty but X-ray phase or position)\n",
    "- Potentially aging/damage\n",
    "\n",
    "## Collect data from time series images for feature engineering -- as similiarly done for the initial training\n",
    "**STATISTICS FROM ROIS** *(regions of interests)*\n",
    "- Standard Deviation\n",
    "- Average Intensity\n",
    "- Center of Mass X\n",
    "- Center of Mass Y\n",
    "- Sigma X (stdev in X)\n",
    "- Sigma Y (stdev in X)\n",
    "    \n",
    "[These and similiar signals are computed by the AreaDetector Stats Plugin](https://areadetector.github.io/master/ADCore/NDPluginStats.html)\n"
   ]
  },
  {
   "cell_type": "markdown",
   "id": "64298f3f-3d08-4885-ab06-5d0e7a99ce77",
   "metadata": {},
   "source": [
    "### Get the largest `\"blob\"` roi and calculate statistics"
   ]
  },
  {
   "cell_type": "code",
   "execution_count": null,
   "id": "5eb7ab75-e510-41f9-9bb6-d600590a7857",
   "metadata": {
    "tags": []
   },
   "outputs": [],
   "source": [
    "roi = \"blob\"\n",
    "Vpix, Hpix,  Vsize, Hsize = rois[\"blob\"]\n",
    "input_arr = ts.make_input_array(imgs, Vpix, Hpix, Vsize, Hsize)\n",
    "data_dict = ts.get_data(input_arr, f'{scans[0]}_{roi}',  \"no_induced\")\n",
    "series = pd.Series(data_dict)"
   ]
  },
  {
   "cell_type": "code",
   "execution_count": null,
   "id": "352aab59-2fa7-47ea-ba86-f43c45c9e188",
   "metadata": {},
   "outputs": [],
   "source": [
    "series"
   ]
  },
  {
   "cell_type": "markdown",
   "id": "233aeebf-598d-465a-83b1-36b53e5650da",
   "metadata": {},
   "source": [
    "### Compute 93 features\n",
    "- higher order correlations of our main statistics\n",
    "- prepare for entry into our 3 models"
   ]
  },
  {
   "cell_type": "code",
   "execution_count": null,
   "id": "63bb23cb-cba0-4564-af0a-e8d9a1514899",
   "metadata": {},
   "outputs": [],
   "source": [
    "features = get_features_single_datum(series) #from  pub-ML_examples.anomaly on github for bnl\n"
   ]
  },
  {
   "cell_type": "code",
   "execution_count": null,
   "id": "98d9d395-976b-4d3f-88ca-6356d902e419",
   "metadata": {},
   "outputs": [],
   "source": [
    "df = pd.DataFrame([features])"
   ]
  },
  {
   "cell_type": "code",
   "execution_count": null,
   "id": "90f368ff-f99e-4124-94ac-611ce657a310",
   "metadata": {},
   "outputs": [],
   "source": [
    "df"
   ]
  },
  {
   "cell_type": "code",
   "execution_count": null,
   "id": "20faf308-6e0a-4106-b966-aa2a91cf51b3",
   "metadata": {},
   "outputs": [],
   "source": [
    "new_data = (df.drop(columns=[\"target\", \"roi\"]))"
   ]
  },
  {
   "cell_type": "markdown",
   "id": "25a1ddbe-e8ee-4da2-b695-bcb08ee21951",
   "metadata": {
    "tags": []
   },
   "source": [
    "### Input data into our models"
   ]
  },
  {
   "cell_type": "code",
   "execution_count": null,
   "id": "50ad90f2-476c-4daf-ad56-80de62426ff7",
   "metadata": {},
   "outputs": [],
   "source": [
    "for method, model in models.items():\n",
    "    print(f'{method}:\\t', end=\"\")\n",
    "    make_the_model_go(model, new_data)"
   ]
  },
  {
   "cell_type": "code",
   "execution_count": null,
   "id": "b0ee0e46-9fa5-49dc-ae52-1cd81b1271cc",
   "metadata": {},
   "outputs": [],
   "source": [
    "fig = plt.figure()\n",
    "plt.plot(data_dict['intensity_ts'], label=f'{df[\"roi\"][0]}')#missing first 50')\n",
    "plt.legend()"
   ]
  },
  {
   "cell_type": "code",
   "execution_count": null,
   "id": "4a353e72-1972-415d-aba1-ca2aff8a9792",
   "metadata": {},
   "outputs": [],
   "source": []
  },
  {
   "cell_type": "code",
   "execution_count": null,
   "id": "5f165891-9b8f-43c3-84d7-134d7118d1a8",
   "metadata": {},
   "outputs": [],
   "source": [
    "roi_list = list(rois.items())"
   ]
  },
  {
   "cell_type": "code",
   "execution_count": null,
   "id": "305017f9-d053-4e5c-9816-45cadbcc19d9",
   "metadata": {},
   "outputs": [],
   "source": [
    "roi_list"
   ]
  },
  {
   "cell_type": "markdown",
   "id": "f7ebba05-e89e-4cb7-ad7e-34c8a7e20a30",
   "metadata": {
    "jp-MarkdownHeadingCollapsed": true,
    "tags": []
   },
   "source": [
    "## Applying the same work flow to all ROIs (6)"
   ]
  },
  {
   "cell_type": "code",
   "execution_count": null,
   "id": "a0faff79-af90-48b2-affb-c79cebd7f40f",
   "metadata": {},
   "outputs": [],
   "source": [
    "img_start, img_end = 0, imgs.shape[0] #ALL OF THEM\n",
    "#img_start, img_end = 50, 150 # just the middle\n",
    "\n",
    "\n",
    "prediction_results = {'EEpr':[], 'IFTpr':[],'LODpr':[],} \n",
    "roi_data_dict = {}\n",
    "\n",
    "for i, r_list in enumerate(roi_list):\n",
    "    data, data_dict, meas_label = ts.prep_model_input(imgs[img_start:img_end ], r_list, scan, class_label)\n",
    "    roi_data_dict.update({i:data_dict})\n",
    "    for method, model in models.items():\n",
    "        #print(f'{method}:\\t', end=\"\")\n",
    "        prediction = model.predict(data)\n",
    "        prediction_results[method+'pr'].append(prediction[0])"
   ]
  },
  {
   "cell_type": "code",
   "execution_count": null,
   "id": "f9d09172-2962-44ee-953d-1ba9e7a32689",
   "metadata": {},
   "outputs": [],
   "source": [
    "df_predictions =  pd.DataFrame(prediction_results)"
   ]
  },
  {
   "cell_type": "code",
   "execution_count": null,
   "id": "e1b17e28-b4cb-402e-af6a-522c1c3ae279",
   "metadata": {},
   "outputs": [],
   "source": [
    "fig, axes = plt.subplots(6, figsize=(10, 15), sharex=True)\n",
    "plt.suptitle(scan)\n",
    "for roi_i, data_dict in roi_data_dict.items():\n",
    "    color = next(colors)\n",
    "    roi_name, _ = roi_list[roi_i]\n",
    "    for i, key in enumerate(data_dict.keys()):\n",
    "        if i < 6:\n",
    "            ax = axes[i]\n",
    "            ax.plot((data_dict[key] - np.mean(data_dict[key])), color=color, label = roi_name)\n",
    "        \n",
    "\n",
    "for ax, key in zip(axes, data_dict.keys()):\n",
    "    ax.set(title=key, ylabel = f'minus average')\n",
    "ax.legend(bbox_to_anchor=(1,1))\n",
    "ax.set_xlabel = 'frames'"
   ]
  },
  {
   "cell_type": "code",
   "execution_count": null,
   "id": "d69b22b5-a8a3-4110-a7dc-13845bf65b6c",
   "metadata": {},
   "outputs": [],
   "source": [
    "df_predictions"
   ]
  },
  {
   "cell_type": "markdown",
   "id": "3ab4a88a-b8d4-4904-a398-6771a996f680",
   "metadata": {
    "jp-MarkdownHeadingCollapsed": true,
    "tags": []
   },
   "source": [
    "### Comment 1 on \"no induced\" anomalies scan 154685"
   ]
  },
  {
   "cell_type": "markdown",
   "id": "33177ea3-fc35-403b-a924-75f76bf77eeb",
   "metadata": {},
   "source": [
    "* LOD looks promising\n",
    "* clear why the corner is characterized as an anomaly\n",
    "* maybe the we can down select images to have better predictions (50 & 150?"
   ]
  },
  {
   "cell_type": "code",
   "execution_count": null,
   "id": "f6cd9d12-7abf-4825-9a92-4c3911351fb6",
   "metadata": {},
   "outputs": [],
   "source": [
    "roi_list"
   ]
  },
  {
   "cell_type": "markdown",
   "id": "83f356de-d8e5-48cd-ab11-d61ae8dafce2",
   "metadata": {
    "jp-MarkdownHeadingCollapsed": true,
    "tags": []
   },
   "source": [
    "### Comment 2 on \"no induced\" anomalies scan 154685"
   ]
  },
  {
   "cell_type": "markdown",
   "id": "0a8200a8-a4eb-428c-86b5-d74078bcebf2",
   "metadata": {},
   "source": [
    "**Using frames = 50:15**\n",
    "* LOD looks to be most permissive \n",
    "* IFT may be more flexible\n",
    "* EE characteris low intensity, small areas as \"no_induced\""
   ]
  },
  {
   "cell_type": "markdown",
   "id": "9121df02-cbf9-4ee6-9f20-349f94b26486",
   "metadata": {
    "tags": []
   },
   "source": [
    "# Let's try a different scans\n",
    "<img src='figures/oops.jpg' width=\"400\" height=\"400\">\n",
    "\n",
    "```python\n",
    "0 154685 ['dif_beam_hdf5'] laser stability no induced \n",
    "1 154686 ['dif_beam_hdf5'] laser stability slt3 moved ********\n",
    "2 154687 ['dif_beam_hdf5'] laser stability slt3 move  ********\n",
    "3 154688 ['dif_beam_hdf5'] laser stability LEDs on/off\n",
    "4 154689 ['dif_beam_hdf5'] laser stability pinhole move out\n",
    "5 154690 ['dif_beam_hdf5'] laser stability 0.5 intensity steady (NO INDUCED, but low) ********\n",
    "6 154691 ['dif_beam_hdf5'] laser stability random up and down intensity\n",
    "7 154692 ['dif_beam_hdf5'] laser stability >0.5 intensity steady  (NO INDUCED, but low)  ********\n",
    "8 154693 ['dif_beam_hdf5'] laser stability random up and down intensity\n",
    "9 154694 ['dif_beam_hdf5'] laser stability sudden off\n",
    "10 154695 ['dif_beam_hdf5'] laser stability sudden on\n",
    "11 154696 ['dif_beam_hdf5'] laser stability sudden on\n",
    "```"
   ]
  },
  {
   "cell_type": "code",
   "execution_count": null,
   "id": "868c3056-042c-4a87-a014-b5efa97568ab",
   "metadata": {
    "tags": []
   },
   "outputs": [],
   "source": [
    "scan, class_label = scans[9], None#\"anomaly\" #\"no induced\"\n",
    "img_start, img_end = 0, imgs.shape[0] #ALL OF THEM\n",
    "#img_start, img_end = 50, 150 #ALL OF THEM\n",
    "\n",
    "run_data = csx[scan]['primary']['data']['dif_beam_hdf5_image'][:, :, 400:1200, :1200].compute()\n",
    "imgs = ts.get_images_from_tiled(run_data)"
   ]
  },
  {
   "cell_type": "code",
   "execution_count": null,
   "id": "14817701-c02e-4b88-8c4d-8bf492468de6",
   "metadata": {},
   "outputs": [],
   "source": [
    "prediction_results = {'EEpr':[], 'IFTpr':[],'LODpr':[],}\n",
    "roi_data_dict = {}\n",
    "\n",
    "for i, r_list in enumerate(roi_list):\n",
    "    data, data_dict, meas_label = ts.prep_model_input(imgs[img_start:img_end ], r_list, scan, class_label)\n",
    "    roi_data_dict.update({i:data_dict})\n",
    "    for method, model in models.items():\n",
    "        #print(f'{method}:\\t', end=\"\")\n",
    "        prediction = model.predict(data)\n",
    "        prediction_results[method+'pr'].append(prediction[0])"
   ]
  },
  {
   "cell_type": "code",
   "execution_count": null,
   "id": "5e20d440-0999-4a63-8488-2927b0635151",
   "metadata": {},
   "outputs": [],
   "source": [
    "fig, axes = plt.subplots(6, figsize=(10, 15), sharex=True)\n",
    "plt.suptitle(scan)\n",
    "for roi_i, data_dict in roi_data_dict.items():\n",
    "    color = next(colors)\n",
    "    roi_name, _ = roi_list[roi_i]\n",
    "    for i, key in enumerate(data_dict.keys()):\n",
    "        if i < 6:\n",
    "            ax = axes[i]\n",
    "            ax.plot((data_dict[key] - np.mean(data_dict[key])), color=color, label = roi_name)\n",
    "        \n",
    "\n",
    "for ax, key in zip(axes, data_dict.keys()):\n",
    "    ax.set(title=key, ylabel = f'minus average')\n",
    "ax.legend(bbox_to_anchor=(1,1))\n",
    "ax.set_xlabel = 'frames'\n",
    "\n",
    "df_pr_res=pd.DataFrame(prediction_results)\n",
    "df_pr_res"
   ]
  },
  {
   "cell_type": "markdown",
   "id": "8b31ab41-784a-408f-8628-899632939a0f",
   "metadata": {},
   "source": []
  },
  {
   "cell_type": "markdown",
   "id": "3eeeee42-bae1-4ccd-a498-1988d5e4fa77",
   "metadata": {},
   "source": [
    "### Collaborators in the Presented Model\n",
    "- **Tatiana Konstantinova** *the models in this tutorial*\n",
    "- Phillip Mafffettone\n",
    "- Stuart Campbell\n",
    "- Bruce Ravel\n",
    "- Daniel Olds\n",
    "\n",
    "### Collaborators in LDRD 20-038 ”Machine Learning for Real-Time Data Fidelity, Healing, and Analysis for Coherent X-ray Synchrotron Data”\n",
    "- **Tatiana Konstantinova**\n",
    "- **Anthony DeGennarro**\n",
    "- Hui Chen\n",
    "- Lutz Weigart\n",
    "- Maksim Rakitin"
   ]
  },
  {
   "cell_type": "code",
   "execution_count": null,
   "id": "70b49020-08ff-4b14-8961-b107dd53157b",
   "metadata": {},
   "outputs": [],
   "source": []
  }
 ],
 "metadata": {
  "kernelspec": {
   "display_name": "Python 3",
   "language": "python",
   "name": "python3"
  },
  "language_info": {
   "codemirror_mode": {
    "name": "ipython",
    "version": 3
   },
   "file_extension": ".py",
   "mimetype": "text/x-python",
   "name": "python",
   "nbconvert_exporter": "python",
   "pygments_lexer": "ipython3",
   "version": "3.9.12"
  }
 },
 "nbformat": 4,
 "nbformat_minor": 5
}

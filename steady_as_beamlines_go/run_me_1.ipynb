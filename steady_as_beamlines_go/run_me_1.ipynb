{
 "cells": [
  {
   "cell_type": "markdown",
   "id": "e9f1c519-fb61-4140-bd28-41fd48a12c92",
   "metadata": {},
   "source": []
  },
  {
   "cell_type": "code",
   "execution_count": null,
   "id": "1f3cc0f1-eb85-433b-8c01-af2948ff0c42",
   "metadata": {},
   "outputs": [],
   "source": []
  },
  {
   "cell_type": "code",
   "execution_count": null,
   "id": "154e51bf-efed-49d3-a0e6-e6da66062a09",
   "metadata": {},
   "outputs": [],
   "source": [
    "pip install statsmodels"
   ]
  },
  {
   "cell_type": "code",
   "execution_count": null,
   "id": "93d45b4f-1b1a-4cfa-aacd-824eb949542b",
   "metadata": {},
   "outputs": [],
   "source": [
    "pip install photutils"
   ]
  },
  {
   "cell_type": "code",
   "execution_count": null,
   "id": "6b7e5a24-030a-46c1-956d-48d956bc7365",
   "metadata": {},
   "outputs": [],
   "source": [
    "from anomaly.extract_features import get_features_single_datum\n",
    "import photutils"
   ]
  }
 ],
 "metadata": {
  "kernelspec": {
   "display_name": "Python 3",
   "language": "python",
   "name": "python3"
  },
  "language_info": {
   "codemirror_mode": {
    "name": "ipython",
    "version": 3
   },
   "file_extension": ".py",
   "mimetype": "text/x-python",
   "name": "python",
   "nbconvert_exporter": "python",
   "pygments_lexer": "ipython3",
   "version": "3.9.12"
  }
 },
 "nbformat": 4,
 "nbformat_minor": 5
}
